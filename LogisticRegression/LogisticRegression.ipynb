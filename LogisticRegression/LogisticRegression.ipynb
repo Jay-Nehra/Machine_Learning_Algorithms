{
  "metadata": {
    "kernelspec": {
      "language": "python",
      "display_name": "Python 3",
      "name": "python3"
    },
    "language_info": {
      "name": "python",
      "version": "3.10.13",
      "mimetype": "text/x-python",
      "codemirror_mode": {
        "name": "ipython",
        "version": 3
      },
      "pygments_lexer": "ipython3",
      "nbconvert_exporter": "python",
      "file_extension": ".py"
    },
    "kaggle": {
      "accelerator": "none",
      "dataSources": [],
      "dockerImageVersionId": 30664,
      "isInternetEnabled": true,
      "language": "python",
      "sourceType": "notebook",
      "isGpuEnabled": false
    },
    "colab": {
      "name": "LogisticRegression",
      "provenance": [],
      "include_colab_link": true
    }
  },
  "nbformat_minor": 0,
  "nbformat": 4,
  "cells": [
    {
      "cell_type": "markdown",
      "metadata": {
        "id": "view-in-github",
        "colab_type": "text"
      },
      "source": [
        "<a href=\"https://colab.research.google.com/github/Jay-Nehra/Machine_Learning_Algorithms/blob/main/LogisticRegression/LogisticRegression.ipynb\" target=\"_parent\"><img src=\"https://colab.research.google.com/assets/colab-badge.svg\" alt=\"Open In Colab\"/></a>"
      ]
    },
    {
      "cell_type": "code",
      "source": [
        "import numpy as np\n",
        "import pandas as pd\n",
        "\n",
        "diabetes_df = pd.read_csv('https://github.com/YBIFoundation/Dataset/raw/main/Diabetes.csv')\n",
        "diabetes_df.describe()"
      ],
      "metadata": {
        "_uuid": "8f2839f25d086af736a60e9eeb907d3b93b6e0e5",
        "_cell_guid": "b1076dfc-b9ad-4769-8c92-a6c4dae69d19",
        "execution": {
          "iopub.status.busy": "2024-03-06T03:21:14.221707Z",
          "iopub.execute_input": "2024-03-06T03:21:14.222068Z",
          "iopub.status.idle": "2024-03-06T03:21:15.467222Z",
          "shell.execute_reply.started": "2024-03-06T03:21:14.222041Z",
          "shell.execute_reply": "2024-03-06T03:21:15.465268Z"
        },
        "trusted": true,
        "id": "ljCpuAFiyaAd",
        "outputId": "99a6724b-1f42-42de-ee27-677d55c8c907"
      },
      "execution_count": null,
      "outputs": [
        {
          "execution_count": 4,
          "output_type": "execute_result",
          "data": {
            "text/plain": "       pregnancies     glucose   diastolic     triceps     insulin  \\\ncount   768.000000  768.000000  768.000000  768.000000  768.000000   \nmean      3.845052  120.894531   69.105469   20.536458   79.799479   \nstd       3.369578   31.972618   19.355807   15.952218  115.244002   \nmin       0.000000    0.000000    0.000000    0.000000    0.000000   \n25%       1.000000   99.000000   62.000000    0.000000    0.000000   \n50%       3.000000  117.000000   72.000000   23.000000   30.500000   \n75%       6.000000  140.250000   80.000000   32.000000  127.250000   \nmax      17.000000  199.000000  122.000000   99.000000  846.000000   \n\n              bmi         dpf         age    diabetes  \ncount  768.000000  768.000000  768.000000  768.000000  \nmean    31.992578    0.471876   33.240885    0.348958  \nstd      7.884160    0.331329   11.760232    0.476951  \nmin      0.000000    0.078000   21.000000    0.000000  \n25%     27.300000    0.243750   24.000000    0.000000  \n50%     32.000000    0.372500   29.000000    0.000000  \n75%     36.600000    0.626250   41.000000    1.000000  \nmax     67.100000    2.420000   81.000000    1.000000  ",
            "text/html": "<div>\n<style scoped>\n    .dataframe tbody tr th:only-of-type {\n        vertical-align: middle;\n    }\n\n    .dataframe tbody tr th {\n        vertical-align: top;\n    }\n\n    .dataframe thead th {\n        text-align: right;\n    }\n</style>\n<table border=\"1\" class=\"dataframe\">\n  <thead>\n    <tr style=\"text-align: right;\">\n      <th></th>\n      <th>pregnancies</th>\n      <th>glucose</th>\n      <th>diastolic</th>\n      <th>triceps</th>\n      <th>insulin</th>\n      <th>bmi</th>\n      <th>dpf</th>\n      <th>age</th>\n      <th>diabetes</th>\n    </tr>\n  </thead>\n  <tbody>\n    <tr>\n      <th>count</th>\n      <td>768.000000</td>\n      <td>768.000000</td>\n      <td>768.000000</td>\n      <td>768.000000</td>\n      <td>768.000000</td>\n      <td>768.000000</td>\n      <td>768.000000</td>\n      <td>768.000000</td>\n      <td>768.000000</td>\n    </tr>\n    <tr>\n      <th>mean</th>\n      <td>3.845052</td>\n      <td>120.894531</td>\n      <td>69.105469</td>\n      <td>20.536458</td>\n      <td>79.799479</td>\n      <td>31.992578</td>\n      <td>0.471876</td>\n      <td>33.240885</td>\n      <td>0.348958</td>\n    </tr>\n    <tr>\n      <th>std</th>\n      <td>3.369578</td>\n      <td>31.972618</td>\n      <td>19.355807</td>\n      <td>15.952218</td>\n      <td>115.244002</td>\n      <td>7.884160</td>\n      <td>0.331329</td>\n      <td>11.760232</td>\n      <td>0.476951</td>\n    </tr>\n    <tr>\n      <th>min</th>\n      <td>0.000000</td>\n      <td>0.000000</td>\n      <td>0.000000</td>\n      <td>0.000000</td>\n      <td>0.000000</td>\n      <td>0.000000</td>\n      <td>0.078000</td>\n      <td>21.000000</td>\n      <td>0.000000</td>\n    </tr>\n    <tr>\n      <th>25%</th>\n      <td>1.000000</td>\n      <td>99.000000</td>\n      <td>62.000000</td>\n      <td>0.000000</td>\n      <td>0.000000</td>\n      <td>27.300000</td>\n      <td>0.243750</td>\n      <td>24.000000</td>\n      <td>0.000000</td>\n    </tr>\n    <tr>\n      <th>50%</th>\n      <td>3.000000</td>\n      <td>117.000000</td>\n      <td>72.000000</td>\n      <td>23.000000</td>\n      <td>30.500000</td>\n      <td>32.000000</td>\n      <td>0.372500</td>\n      <td>29.000000</td>\n      <td>0.000000</td>\n    </tr>\n    <tr>\n      <th>75%</th>\n      <td>6.000000</td>\n      <td>140.250000</td>\n      <td>80.000000</td>\n      <td>32.000000</td>\n      <td>127.250000</td>\n      <td>36.600000</td>\n      <td>0.626250</td>\n      <td>41.000000</td>\n      <td>1.000000</td>\n    </tr>\n    <tr>\n      <th>max</th>\n      <td>17.000000</td>\n      <td>199.000000</td>\n      <td>122.000000</td>\n      <td>99.000000</td>\n      <td>846.000000</td>\n      <td>67.100000</td>\n      <td>2.420000</td>\n      <td>81.000000</td>\n      <td>1.000000</td>\n    </tr>\n  </tbody>\n</table>\n</div>"
          },
          "metadata": {}
        }
      ]
    },
    {
      "cell_type": "code",
      "source": [
        "# Let's start with standardizing the data\n",
        "from sklearn.preprocessing import StandardScaler\n",
        "diabetes_features = diabetes_df.iloc[:, :-1].values\n",
        "diabetes_result = diabetes_df.iloc[:, -1].values\n",
        "std_scaler = StandardScaler()\n",
        "std_diabetes_feat = std_scaler.fit_transform(diabetes_features)"
      ],
      "metadata": {
        "execution": {
          "iopub.status.busy": "2024-03-06T03:21:15.469309Z",
          "iopub.execute_input": "2024-03-06T03:21:15.469624Z",
          "iopub.status.idle": "2024-03-06T03:21:16.007128Z",
          "shell.execute_reply.started": "2024-03-06T03:21:15.469598Z",
          "shell.execute_reply": "2024-03-06T03:21:16.005996Z"
        },
        "trusted": true,
        "id": "pgHPwC5SyaAg"
      },
      "execution_count": null,
      "outputs": []
    },
    {
      "cell_type": "code",
      "source": [
        "#Split the data into 'Train' and 'Test'\n",
        "from sklearn.model_selection import train_test_split\n",
        "\n",
        "train_std_diabetes_feat, test_std_diabetes_feat, train_diabetes_result, test_diabetes_result = train_test_split(std_diabetes_feat, diabetes_result, test_size = 0.25, shuffle = True, stratify = diabetes_result)\n",
        "print(\"Label Count in the overall diabetes dataset is :\", np.bincount(diabetes_result))\n",
        "print(\"Label Count in the Train Split of the dataset is :\", np.bincount(train_diabetes_result))\n",
        "print(\"Label Count in the Test Split of the dataset is :\", np.bincount(test_diabetes_result))"
      ],
      "metadata": {
        "execution": {
          "iopub.status.busy": "2024-03-06T03:21:16.00849Z",
          "iopub.execute_input": "2024-03-06T03:21:16.008957Z",
          "iopub.status.idle": "2024-03-06T03:21:16.114445Z",
          "shell.execute_reply.started": "2024-03-06T03:21:16.008878Z",
          "shell.execute_reply": "2024-03-06T03:21:16.113394Z"
        },
        "trusted": true,
        "id": "epQQ_QFsyaAh",
        "outputId": "7a3e2726-85df-4048-b809-3b83f76d63ed"
      },
      "execution_count": null,
      "outputs": [
        {
          "name": "stdout",
          "text": "Label Count in the overall diabetes dataset is : [500 268]\nLabel Count in the Train Split of the dataset is : [375 201]\nLabel Count in the Test Split of the dataset is : [125  67]\n",
          "output_type": "stream"
        }
      ]
    },
    {
      "cell_type": "code",
      "source": [
        "\"\"\"\n",
        "    For the Logistic regression, I'll need the functionality to calculate the net input which is weight and\n",
        "    the feature vector dot product plus the bias value. Second, for the activation function Logistic regression\n",
        "    uses the Logistic or the Sigmoid Function. And I'll use the fit and predict paradigm so i'll need to calculate those.\n",
        "\n",
        "\"\"\"\n",
        "class logistic_regression():\n",
        "    def __init__(self, eta = 0.001, epochs = 5000, random_seed = 1):\n",
        "        self.eta = eta\n",
        "        self.epochs = epochs\n",
        "        self.random_seed = random_seed\n",
        "\n",
        "    def net_input(self, X):\n",
        "        return np.dot(X, self.weight[1:]) + self.weight[0]\n",
        "\n",
        "    def activation_sigmoid(self, z):\n",
        "        return (1/ (1+np.exp(-np.clip(z, -250,250))))\n",
        "\n",
        "    def predict(self, X):\n",
        "        return np.where(self.activation_sigmoid(self.net_input(X)) > 0.5, 1, 0)\n",
        "\n",
        "    def fit(self, X, y):\n",
        "        r_seed = np.random.RandomState(self.random_seed)\n",
        "        n_features = X.shape[1]\n",
        "#         self.weight = r_seed.normal(loc=0.0, scale=0.01, size = 1+ X.shape[1])\n",
        "        self.weight = r_seed.normal(loc=0.0, scale=1 / np.sqrt(n_features), size = 1+ X.shape[1])\n",
        "        self.loss = []\n",
        "        self.accuracy = []\n",
        "\n",
        "        for _ in range(self.epochs):\n",
        "            net_input = self.net_input(X)\n",
        "            sig_output = self.activation_sigmoid(net_input)\n",
        "            error = y - sig_output\n",
        "            self.weight[1:] += self.eta * 2 * X.T.dot(error) / X.shape[0]\n",
        "            self.weight[0] += self.eta * 2 * error.mean()\n",
        "            self.loss.append(-y.dot(np.log(sig_output)) - (1-y).dot(np.log(1-sig_output)))\n",
        "            self.accuracy.append(np.mean(y == self.predict(X)))\n",
        "\n",
        "        return self.weight, self.loss, self.accuracy\n"
      ],
      "metadata": {
        "execution": {
          "iopub.status.busy": "2024-03-06T03:21:54.084701Z",
          "iopub.execute_input": "2024-03-06T03:21:54.086315Z",
          "iopub.status.idle": "2024-03-06T03:21:54.098232Z",
          "shell.execute_reply.started": "2024-03-06T03:21:54.086265Z",
          "shell.execute_reply": "2024-03-06T03:21:54.096929Z"
        },
        "trusted": true,
        "id": "gl7wDG0AyaAh"
      },
      "execution_count": null,
      "outputs": []
    },
    {
      "cell_type": "code",
      "source": [
        "LogReg = logistic_regression()"
      ],
      "metadata": {
        "execution": {
          "iopub.status.busy": "2024-03-06T03:21:54.596086Z",
          "iopub.execute_input": "2024-03-06T03:21:54.596466Z",
          "iopub.status.idle": "2024-03-06T03:21:54.601622Z",
          "shell.execute_reply.started": "2024-03-06T03:21:54.596436Z",
          "shell.execute_reply": "2024-03-06T03:21:54.600594Z"
        },
        "trusted": true,
        "id": "9ANq22L8yaAi"
      },
      "execution_count": null,
      "outputs": []
    },
    {
      "cell_type": "code",
      "source": [
        "weight, loss , acc = LogReg.fit(train_std_diabetes_feat,train_diabetes_result)"
      ],
      "metadata": {
        "execution": {
          "iopub.status.busy": "2024-03-06T03:21:55.144155Z",
          "iopub.execute_input": "2024-03-06T03:21:55.145174Z",
          "iopub.status.idle": "2024-03-06T03:21:55.725861Z",
          "shell.execute_reply.started": "2024-03-06T03:21:55.145142Z",
          "shell.execute_reply": "2024-03-06T03:21:55.724833Z"
        },
        "trusted": true,
        "id": "lskzOzwYyaAi"
      },
      "execution_count": null,
      "outputs": []
    },
    {
      "cell_type": "code",
      "source": [
        "y_pred = LogReg.predict(test_std_diabetes_feat)\n",
        "print(y_pred)"
      ],
      "metadata": {
        "execution": {
          "iopub.status.busy": "2024-03-06T03:21:56.27999Z",
          "iopub.execute_input": "2024-03-06T03:21:56.280484Z",
          "iopub.status.idle": "2024-03-06T03:21:56.288003Z",
          "shell.execute_reply.started": "2024-03-06T03:21:56.280448Z",
          "shell.execute_reply": "2024-03-06T03:21:56.286635Z"
        },
        "trusted": true,
        "id": "YOHYHucryaAi",
        "outputId": "bab03e10-5d50-4467-f118-2daa8f534bd9"
      },
      "execution_count": null,
      "outputs": [
        {
          "name": "stdout",
          "text": "[0 0 0 0 0 0 0 0 0 0 1 0 0 0 0 0 0 0 0 0 0 1 0 1 1 0 0 0 0 1 0 1 0 1 1 0 1\n 0 0 0 0 1 0 0 0 1 0 1 0 0 1 1 0 0 0 0 0 1 0 1 1 1 0 0 0 0 0 1 1 0 0 1 1 1\n 0 0 0 0 0 0 1 0 0 0 0 1 0 0 1 1 0 1 1 0 1 0 0 0 0 1 0 0 0 0 0 0 0 0 1 0 1\n 0 1 1 0 0 0 0 1 1 0 0 0 0 0 0 1 0 0 0 0 0 0 0 1 1 0 0 0 0 1 0 1 0 1 0 0 0\n 1 0 0 0 0 0 0 0 0 0 1 0 0 0 1 0 0 1 0 0 1 1 0 1 1 0 1 0 0 0 1 0 0 0 0 0 1\n 0 0 0 0 1 1 1]\n",
          "output_type": "stream"
        }
      ]
    },
    {
      "cell_type": "code",
      "source": [
        "# Calculate the number of correct predictions\n",
        "correct_predictions = np.sum(y_pred == test_diabetes_result)\n",
        "\n",
        "# Calculate the accuracy\n",
        "accuracy = correct_predictions / len(test_diabetes_result)\n",
        "\n",
        "print(f\"Accuracy: {accuracy * 100:.2f}%\")"
      ],
      "metadata": {
        "execution": {
          "iopub.status.busy": "2024-03-06T03:21:57.325255Z",
          "iopub.execute_input": "2024-03-06T03:21:57.325722Z",
          "iopub.status.idle": "2024-03-06T03:21:57.332805Z",
          "shell.execute_reply.started": "2024-03-06T03:21:57.325681Z",
          "shell.execute_reply": "2024-03-06T03:21:57.331266Z"
        },
        "trusted": true,
        "id": "WcYtBAywyaAj",
        "outputId": "1fcaa4fb-83d8-44e8-8250-8d9df2ccfb23"
      },
      "execution_count": null,
      "outputs": [
        {
          "name": "stdout",
          "text": "Accuracy: 75.00%\n",
          "output_type": "stream"
        }
      ]
    },
    {
      "cell_type": "code",
      "source": [
        "X_train, X_test, y_train, y_test = train_std_diabetes_feat, test_std_diabetes_feat, train_diabetes_result, test_diabetes_result"
      ],
      "metadata": {
        "execution": {
          "iopub.status.busy": "2024-03-06T03:22:06.62786Z",
          "iopub.execute_input": "2024-03-06T03:22:06.628697Z",
          "iopub.status.idle": "2024-03-06T03:22:06.635476Z",
          "shell.execute_reply.started": "2024-03-06T03:22:06.628659Z",
          "shell.execute_reply": "2024-03-06T03:22:06.632968Z"
        },
        "trusted": true,
        "id": "_LsHzP9wyaAj"
      },
      "execution_count": null,
      "outputs": []
    },
    {
      "cell_type": "code",
      "source": [
        "from sklearn.linear_model import LogisticRegression\n",
        "from sklearn.metrics import accuracy_score\n",
        "model = LogisticRegression(max_iter=50)\n",
        "model.fit(X_train,y_train)\n",
        "y_pred = model.predict(X_test)\n",
        "accuracy_score(y_test,y_pred)"
      ],
      "metadata": {
        "execution": {
          "iopub.status.busy": "2024-03-06T03:22:06.991898Z",
          "iopub.execute_input": "2024-03-06T03:22:06.992283Z",
          "iopub.status.idle": "2024-03-06T03:22:07.006512Z",
          "shell.execute_reply.started": "2024-03-06T03:22:06.992255Z",
          "shell.execute_reply": "2024-03-06T03:22:07.005085Z"
        },
        "trusted": true,
        "id": "qWkrT1fjyaAj",
        "outputId": "cf630887-6a6d-4c3f-9293-6ef13db3c3f8"
      },
      "execution_count": null,
      "outputs": [
        {
          "execution_count": 25,
          "output_type": "execute_result",
          "data": {
            "text/plain": "0.7604166666666666"
          },
          "metadata": {}
        }
      ]
    },
    {
      "cell_type": "code",
      "source": [],
      "metadata": {
        "id": "ohLNjFyTyaAj"
      },
      "execution_count": null,
      "outputs": []
    }
  ]
}