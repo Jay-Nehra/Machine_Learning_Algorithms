{
  "metadata": {
    "kernelspec": {
      "language": "python",
      "display_name": "Python 3",
      "name": "python3"
    },
    "language_info": {
      "name": "python",
      "version": "3.10.13",
      "mimetype": "text/x-python",
      "codemirror_mode": {
        "name": "ipython",
        "version": 3
      },
      "pygments_lexer": "ipython3",
      "nbconvert_exporter": "python",
      "file_extension": ".py"
    },
    "kaggle": {
      "accelerator": "none",
      "dataSources": [],
      "dockerImageVersionId": 30664,
      "isInternetEnabled": true,
      "language": "python",
      "sourceType": "notebook",
      "isGpuEnabled": false
    },
    "colab": {
      "name": "LogisticRegression",
      "provenance": [],
      "include_colab_link": true
    }
  },
  "nbformat_minor": 0,
  "nbformat": 4,
  "cells": [
    {
      "cell_type": "markdown",
      "metadata": {
        "id": "view-in-github",
        "colab_type": "text"
      },
      "source": [
        "<a href=\"https://colab.research.google.com/github/Jay-Nehra/Machine_Learning_Algorithms/blob/main/LogisticRegression/LogisticRegression_L2Regularization.ipynb\" target=\"_parent\"><img src=\"https://colab.research.google.com/assets/colab-badge.svg\" alt=\"Open In Colab\"/></a>"
      ]
    },
    {
      "cell_type": "code",
      "source": [
        "import numpy as np\n",
        "import pandas as pd\n",
        "\n",
        "diabetes_df = pd.read_csv('https://github.com/YBIFoundation/Dataset/raw/main/Diabetes.csv')\n",
        "diabetes_df.describe()"
      ],
      "metadata": {
        "_uuid": "8f2839f25d086af736a60e9eeb907d3b93b6e0e5",
        "_cell_guid": "b1076dfc-b9ad-4769-8c92-a6c4dae69d19",
        "execution": {
          "iopub.status.busy": "2024-03-06T02:25:26.367514Z",
          "iopub.execute_input": "2024-03-06T02:25:26.367939Z",
          "iopub.status.idle": "2024-03-06T02:25:27.801495Z",
          "shell.execute_reply.started": "2024-03-06T02:25:26.367901Z",
          "shell.execute_reply": "2024-03-06T02:25:27.800637Z"
        },
        "trusted": true,
        "colab": {
          "base_uri": "https://localhost:8080/",
          "height": 300
        },
        "id": "mOO-lOuHld7T",
        "outputId": "dbd505b8-88df-4ede-82ff-e83f74c5d66a"
      },
      "execution_count": 1,
      "outputs": [
        {
          "output_type": "execute_result",
          "data": {
            "text/plain": [
              "       pregnancies     glucose   diastolic     triceps     insulin  \\\n",
              "count   768.000000  768.000000  768.000000  768.000000  768.000000   \n",
              "mean      3.845052  120.894531   69.105469   20.536458   79.799479   \n",
              "std       3.369578   31.972618   19.355807   15.952218  115.244002   \n",
              "min       0.000000    0.000000    0.000000    0.000000    0.000000   \n",
              "25%       1.000000   99.000000   62.000000    0.000000    0.000000   \n",
              "50%       3.000000  117.000000   72.000000   23.000000   30.500000   \n",
              "75%       6.000000  140.250000   80.000000   32.000000  127.250000   \n",
              "max      17.000000  199.000000  122.000000   99.000000  846.000000   \n",
              "\n",
              "              bmi         dpf         age    diabetes  \n",
              "count  768.000000  768.000000  768.000000  768.000000  \n",
              "mean    31.992578    0.471876   33.240885    0.348958  \n",
              "std      7.884160    0.331329   11.760232    0.476951  \n",
              "min      0.000000    0.078000   21.000000    0.000000  \n",
              "25%     27.300000    0.243750   24.000000    0.000000  \n",
              "50%     32.000000    0.372500   29.000000    0.000000  \n",
              "75%     36.600000    0.626250   41.000000    1.000000  \n",
              "max     67.100000    2.420000   81.000000    1.000000  "
            ],
            "text/html": [
              "\n",
              "  <div id=\"df-b0cfa7db-9622-417c-bf32-8e4573523d8b\" class=\"colab-df-container\">\n",
              "    <div>\n",
              "<style scoped>\n",
              "    .dataframe tbody tr th:only-of-type {\n",
              "        vertical-align: middle;\n",
              "    }\n",
              "\n",
              "    .dataframe tbody tr th {\n",
              "        vertical-align: top;\n",
              "    }\n",
              "\n",
              "    .dataframe thead th {\n",
              "        text-align: right;\n",
              "    }\n",
              "</style>\n",
              "<table border=\"1\" class=\"dataframe\">\n",
              "  <thead>\n",
              "    <tr style=\"text-align: right;\">\n",
              "      <th></th>\n",
              "      <th>pregnancies</th>\n",
              "      <th>glucose</th>\n",
              "      <th>diastolic</th>\n",
              "      <th>triceps</th>\n",
              "      <th>insulin</th>\n",
              "      <th>bmi</th>\n",
              "      <th>dpf</th>\n",
              "      <th>age</th>\n",
              "      <th>diabetes</th>\n",
              "    </tr>\n",
              "  </thead>\n",
              "  <tbody>\n",
              "    <tr>\n",
              "      <th>count</th>\n",
              "      <td>768.000000</td>\n",
              "      <td>768.000000</td>\n",
              "      <td>768.000000</td>\n",
              "      <td>768.000000</td>\n",
              "      <td>768.000000</td>\n",
              "      <td>768.000000</td>\n",
              "      <td>768.000000</td>\n",
              "      <td>768.000000</td>\n",
              "      <td>768.000000</td>\n",
              "    </tr>\n",
              "    <tr>\n",
              "      <th>mean</th>\n",
              "      <td>3.845052</td>\n",
              "      <td>120.894531</td>\n",
              "      <td>69.105469</td>\n",
              "      <td>20.536458</td>\n",
              "      <td>79.799479</td>\n",
              "      <td>31.992578</td>\n",
              "      <td>0.471876</td>\n",
              "      <td>33.240885</td>\n",
              "      <td>0.348958</td>\n",
              "    </tr>\n",
              "    <tr>\n",
              "      <th>std</th>\n",
              "      <td>3.369578</td>\n",
              "      <td>31.972618</td>\n",
              "      <td>19.355807</td>\n",
              "      <td>15.952218</td>\n",
              "      <td>115.244002</td>\n",
              "      <td>7.884160</td>\n",
              "      <td>0.331329</td>\n",
              "      <td>11.760232</td>\n",
              "      <td>0.476951</td>\n",
              "    </tr>\n",
              "    <tr>\n",
              "      <th>min</th>\n",
              "      <td>0.000000</td>\n",
              "      <td>0.000000</td>\n",
              "      <td>0.000000</td>\n",
              "      <td>0.000000</td>\n",
              "      <td>0.000000</td>\n",
              "      <td>0.000000</td>\n",
              "      <td>0.078000</td>\n",
              "      <td>21.000000</td>\n",
              "      <td>0.000000</td>\n",
              "    </tr>\n",
              "    <tr>\n",
              "      <th>25%</th>\n",
              "      <td>1.000000</td>\n",
              "      <td>99.000000</td>\n",
              "      <td>62.000000</td>\n",
              "      <td>0.000000</td>\n",
              "      <td>0.000000</td>\n",
              "      <td>27.300000</td>\n",
              "      <td>0.243750</td>\n",
              "      <td>24.000000</td>\n",
              "      <td>0.000000</td>\n",
              "    </tr>\n",
              "    <tr>\n",
              "      <th>50%</th>\n",
              "      <td>3.000000</td>\n",
              "      <td>117.000000</td>\n",
              "      <td>72.000000</td>\n",
              "      <td>23.000000</td>\n",
              "      <td>30.500000</td>\n",
              "      <td>32.000000</td>\n",
              "      <td>0.372500</td>\n",
              "      <td>29.000000</td>\n",
              "      <td>0.000000</td>\n",
              "    </tr>\n",
              "    <tr>\n",
              "      <th>75%</th>\n",
              "      <td>6.000000</td>\n",
              "      <td>140.250000</td>\n",
              "      <td>80.000000</td>\n",
              "      <td>32.000000</td>\n",
              "      <td>127.250000</td>\n",
              "      <td>36.600000</td>\n",
              "      <td>0.626250</td>\n",
              "      <td>41.000000</td>\n",
              "      <td>1.000000</td>\n",
              "    </tr>\n",
              "    <tr>\n",
              "      <th>max</th>\n",
              "      <td>17.000000</td>\n",
              "      <td>199.000000</td>\n",
              "      <td>122.000000</td>\n",
              "      <td>99.000000</td>\n",
              "      <td>846.000000</td>\n",
              "      <td>67.100000</td>\n",
              "      <td>2.420000</td>\n",
              "      <td>81.000000</td>\n",
              "      <td>1.000000</td>\n",
              "    </tr>\n",
              "  </tbody>\n",
              "</table>\n",
              "</div>\n",
              "    <div class=\"colab-df-buttons\">\n",
              "\n",
              "  <div class=\"colab-df-container\">\n",
              "    <button class=\"colab-df-convert\" onclick=\"convertToInteractive('df-b0cfa7db-9622-417c-bf32-8e4573523d8b')\"\n",
              "            title=\"Convert this dataframe to an interactive table.\"\n",
              "            style=\"display:none;\">\n",
              "\n",
              "  <svg xmlns=\"http://www.w3.org/2000/svg\" height=\"24px\" viewBox=\"0 -960 960 960\">\n",
              "    <path d=\"M120-120v-720h720v720H120Zm60-500h600v-160H180v160Zm220 220h160v-160H400v160Zm0 220h160v-160H400v160ZM180-400h160v-160H180v160Zm440 0h160v-160H620v160ZM180-180h160v-160H180v160Zm440 0h160v-160H620v160Z\"/>\n",
              "  </svg>\n",
              "    </button>\n",
              "\n",
              "  <style>\n",
              "    .colab-df-container {\n",
              "      display:flex;\n",
              "      gap: 12px;\n",
              "    }\n",
              "\n",
              "    .colab-df-convert {\n",
              "      background-color: #E8F0FE;\n",
              "      border: none;\n",
              "      border-radius: 50%;\n",
              "      cursor: pointer;\n",
              "      display: none;\n",
              "      fill: #1967D2;\n",
              "      height: 32px;\n",
              "      padding: 0 0 0 0;\n",
              "      width: 32px;\n",
              "    }\n",
              "\n",
              "    .colab-df-convert:hover {\n",
              "      background-color: #E2EBFA;\n",
              "      box-shadow: 0px 1px 2px rgba(60, 64, 67, 0.3), 0px 1px 3px 1px rgba(60, 64, 67, 0.15);\n",
              "      fill: #174EA6;\n",
              "    }\n",
              "\n",
              "    .colab-df-buttons div {\n",
              "      margin-bottom: 4px;\n",
              "    }\n",
              "\n",
              "    [theme=dark] .colab-df-convert {\n",
              "      background-color: #3B4455;\n",
              "      fill: #D2E3FC;\n",
              "    }\n",
              "\n",
              "    [theme=dark] .colab-df-convert:hover {\n",
              "      background-color: #434B5C;\n",
              "      box-shadow: 0px 1px 3px 1px rgba(0, 0, 0, 0.15);\n",
              "      filter: drop-shadow(0px 1px 2px rgba(0, 0, 0, 0.3));\n",
              "      fill: #FFFFFF;\n",
              "    }\n",
              "  </style>\n",
              "\n",
              "    <script>\n",
              "      const buttonEl =\n",
              "        document.querySelector('#df-b0cfa7db-9622-417c-bf32-8e4573523d8b button.colab-df-convert');\n",
              "      buttonEl.style.display =\n",
              "        google.colab.kernel.accessAllowed ? 'block' : 'none';\n",
              "\n",
              "      async function convertToInteractive(key) {\n",
              "        const element = document.querySelector('#df-b0cfa7db-9622-417c-bf32-8e4573523d8b');\n",
              "        const dataTable =\n",
              "          await google.colab.kernel.invokeFunction('convertToInteractive',\n",
              "                                                    [key], {});\n",
              "        if (!dataTable) return;\n",
              "\n",
              "        const docLinkHtml = 'Like what you see? Visit the ' +\n",
              "          '<a target=\"_blank\" href=https://colab.research.google.com/notebooks/data_table.ipynb>data table notebook</a>'\n",
              "          + ' to learn more about interactive tables.';\n",
              "        element.innerHTML = '';\n",
              "        dataTable['output_type'] = 'display_data';\n",
              "        await google.colab.output.renderOutput(dataTable, element);\n",
              "        const docLink = document.createElement('div');\n",
              "        docLink.innerHTML = docLinkHtml;\n",
              "        element.appendChild(docLink);\n",
              "      }\n",
              "    </script>\n",
              "  </div>\n",
              "\n",
              "\n",
              "<div id=\"df-4241d453-a9e0-4fd6-93b8-4f5f602273d0\">\n",
              "  <button class=\"colab-df-quickchart\" onclick=\"quickchart('df-4241d453-a9e0-4fd6-93b8-4f5f602273d0')\"\n",
              "            title=\"Suggest charts\"\n",
              "            style=\"display:none;\">\n",
              "\n",
              "<svg xmlns=\"http://www.w3.org/2000/svg\" height=\"24px\"viewBox=\"0 0 24 24\"\n",
              "     width=\"24px\">\n",
              "    <g>\n",
              "        <path d=\"M19 3H5c-1.1 0-2 .9-2 2v14c0 1.1.9 2 2 2h14c1.1 0 2-.9 2-2V5c0-1.1-.9-2-2-2zM9 17H7v-7h2v7zm4 0h-2V7h2v10zm4 0h-2v-4h2v4z\"/>\n",
              "    </g>\n",
              "</svg>\n",
              "  </button>\n",
              "\n",
              "<style>\n",
              "  .colab-df-quickchart {\n",
              "      --bg-color: #E8F0FE;\n",
              "      --fill-color: #1967D2;\n",
              "      --hover-bg-color: #E2EBFA;\n",
              "      --hover-fill-color: #174EA6;\n",
              "      --disabled-fill-color: #AAA;\n",
              "      --disabled-bg-color: #DDD;\n",
              "  }\n",
              "\n",
              "  [theme=dark] .colab-df-quickchart {\n",
              "      --bg-color: #3B4455;\n",
              "      --fill-color: #D2E3FC;\n",
              "      --hover-bg-color: #434B5C;\n",
              "      --hover-fill-color: #FFFFFF;\n",
              "      --disabled-bg-color: #3B4455;\n",
              "      --disabled-fill-color: #666;\n",
              "  }\n",
              "\n",
              "  .colab-df-quickchart {\n",
              "    background-color: var(--bg-color);\n",
              "    border: none;\n",
              "    border-radius: 50%;\n",
              "    cursor: pointer;\n",
              "    display: none;\n",
              "    fill: var(--fill-color);\n",
              "    height: 32px;\n",
              "    padding: 0;\n",
              "    width: 32px;\n",
              "  }\n",
              "\n",
              "  .colab-df-quickchart:hover {\n",
              "    background-color: var(--hover-bg-color);\n",
              "    box-shadow: 0 1px 2px rgba(60, 64, 67, 0.3), 0 1px 3px 1px rgba(60, 64, 67, 0.15);\n",
              "    fill: var(--button-hover-fill-color);\n",
              "  }\n",
              "\n",
              "  .colab-df-quickchart-complete:disabled,\n",
              "  .colab-df-quickchart-complete:disabled:hover {\n",
              "    background-color: var(--disabled-bg-color);\n",
              "    fill: var(--disabled-fill-color);\n",
              "    box-shadow: none;\n",
              "  }\n",
              "\n",
              "  .colab-df-spinner {\n",
              "    border: 2px solid var(--fill-color);\n",
              "    border-color: transparent;\n",
              "    border-bottom-color: var(--fill-color);\n",
              "    animation:\n",
              "      spin 1s steps(1) infinite;\n",
              "  }\n",
              "\n",
              "  @keyframes spin {\n",
              "    0% {\n",
              "      border-color: transparent;\n",
              "      border-bottom-color: var(--fill-color);\n",
              "      border-left-color: var(--fill-color);\n",
              "    }\n",
              "    20% {\n",
              "      border-color: transparent;\n",
              "      border-left-color: var(--fill-color);\n",
              "      border-top-color: var(--fill-color);\n",
              "    }\n",
              "    30% {\n",
              "      border-color: transparent;\n",
              "      border-left-color: var(--fill-color);\n",
              "      border-top-color: var(--fill-color);\n",
              "      border-right-color: var(--fill-color);\n",
              "    }\n",
              "    40% {\n",
              "      border-color: transparent;\n",
              "      border-right-color: var(--fill-color);\n",
              "      border-top-color: var(--fill-color);\n",
              "    }\n",
              "    60% {\n",
              "      border-color: transparent;\n",
              "      border-right-color: var(--fill-color);\n",
              "    }\n",
              "    80% {\n",
              "      border-color: transparent;\n",
              "      border-right-color: var(--fill-color);\n",
              "      border-bottom-color: var(--fill-color);\n",
              "    }\n",
              "    90% {\n",
              "      border-color: transparent;\n",
              "      border-bottom-color: var(--fill-color);\n",
              "    }\n",
              "  }\n",
              "</style>\n",
              "\n",
              "  <script>\n",
              "    async function quickchart(key) {\n",
              "      const quickchartButtonEl =\n",
              "        document.querySelector('#' + key + ' button');\n",
              "      quickchartButtonEl.disabled = true;  // To prevent multiple clicks.\n",
              "      quickchartButtonEl.classList.add('colab-df-spinner');\n",
              "      try {\n",
              "        const charts = await google.colab.kernel.invokeFunction(\n",
              "            'suggestCharts', [key], {});\n",
              "      } catch (error) {\n",
              "        console.error('Error during call to suggestCharts:', error);\n",
              "      }\n",
              "      quickchartButtonEl.classList.remove('colab-df-spinner');\n",
              "      quickchartButtonEl.classList.add('colab-df-quickchart-complete');\n",
              "    }\n",
              "    (() => {\n",
              "      let quickchartButtonEl =\n",
              "        document.querySelector('#df-4241d453-a9e0-4fd6-93b8-4f5f602273d0 button');\n",
              "      quickchartButtonEl.style.display =\n",
              "        google.colab.kernel.accessAllowed ? 'block' : 'none';\n",
              "    })();\n",
              "  </script>\n",
              "</div>\n",
              "\n",
              "    </div>\n",
              "  </div>\n"
            ],
            "application/vnd.google.colaboratory.intrinsic+json": {
              "type": "dataframe",
              "summary": "{\n  \"name\": \"diabetes_df\",\n  \"rows\": 8,\n  \"fields\": [\n    {\n      \"column\": \"pregnancies\",\n      \"properties\": {\n        \"dtype\": \"number\",\n        \"std\": 269.85223453356366,\n        \"min\": 0.0,\n        \"max\": 768.0,\n        \"num_unique_values\": 8,\n        \"samples\": [\n          3.8450520833333335,\n          3.0,\n          768.0\n        ],\n        \"semantic_type\": \"\",\n        \"description\": \"\"\n      }\n    },\n    {\n      \"column\": \"glucose\",\n      \"properties\": {\n        \"dtype\": \"number\",\n        \"std\": 243.73802348295857,\n        \"min\": 0.0,\n        \"max\": 768.0,\n        \"num_unique_values\": 8,\n        \"samples\": [\n          120.89453125,\n          117.0,\n          768.0\n        ],\n        \"semantic_type\": \"\",\n        \"description\": \"\"\n      }\n    },\n    {\n      \"column\": \"diastolic\",\n      \"properties\": {\n        \"dtype\": \"number\",\n        \"std\": 252.8525053581062,\n        \"min\": 0.0,\n        \"max\": 768.0,\n        \"num_unique_values\": 8,\n        \"samples\": [\n          69.10546875,\n          72.0,\n          768.0\n        ],\n        \"semantic_type\": \"\",\n        \"description\": \"\"\n      }\n    },\n    {\n      \"column\": \"triceps\",\n      \"properties\": {\n        \"dtype\": \"number\",\n        \"std\": 263.7684730531098,\n        \"min\": 0.0,\n        \"max\": 768.0,\n        \"num_unique_values\": 7,\n        \"samples\": [\n          768.0,\n          20.536458333333332,\n          32.0\n        ],\n        \"semantic_type\": \"\",\n        \"description\": \"\"\n      }\n    },\n    {\n      \"column\": \"insulin\",\n      \"properties\": {\n        \"dtype\": \"number\",\n        \"std\": 350.26059167945886,\n        \"min\": 0.0,\n        \"max\": 846.0,\n        \"num_unique_values\": 7,\n        \"samples\": [\n          768.0,\n          79.79947916666667,\n          127.25\n        ],\n        \"semantic_type\": \"\",\n        \"description\": \"\"\n      }\n    },\n    {\n      \"column\": \"bmi\",\n      \"properties\": {\n        \"dtype\": \"number\",\n        \"std\": 262.05117817552093,\n        \"min\": 0.0,\n        \"max\": 768.0,\n        \"num_unique_values\": 8,\n        \"samples\": [\n          31.992578124999998,\n          32.0,\n          768.0\n        ],\n        \"semantic_type\": \"\",\n        \"description\": \"\"\n      }\n    },\n    {\n      \"column\": \"dpf\",\n      \"properties\": {\n        \"dtype\": \"number\",\n        \"std\": 271.3005221658502,\n        \"min\": 0.078,\n        \"max\": 768.0,\n        \"num_unique_values\": 8,\n        \"samples\": [\n          0.47187630208333325,\n          0.3725,\n          768.0\n        ],\n        \"semantic_type\": \"\",\n        \"description\": \"\"\n      }\n    },\n    {\n      \"column\": \"age\",\n      \"properties\": {\n        \"dtype\": \"number\",\n        \"std\": 260.1941178528413,\n        \"min\": 11.760231540678685,\n        \"max\": 768.0,\n        \"num_unique_values\": 8,\n        \"samples\": [\n          33.240885416666664,\n          29.0,\n          768.0\n        ],\n        \"semantic_type\": \"\",\n        \"description\": \"\"\n      }\n    },\n    {\n      \"column\": \"diabetes\",\n      \"properties\": {\n        \"dtype\": \"number\",\n        \"std\": 271.3865920388932,\n        \"min\": 0.0,\n        \"max\": 768.0,\n        \"num_unique_values\": 5,\n        \"samples\": [\n          0.3489583333333333,\n          1.0,\n          0.47695137724279896\n        ],\n        \"semantic_type\": \"\",\n        \"description\": \"\"\n      }\n    }\n  ]\n}"
            }
          },
          "metadata": {},
          "execution_count": 1
        }
      ]
    },
    {
      "cell_type": "code",
      "source": [
        "# Let's start with standardizing the data\n",
        "from sklearn.preprocessing import StandardScaler\n",
        "diabetes_features = diabetes_df.iloc[:, :-1].values\n",
        "diabetes_result = diabetes_df.iloc[:, -1].values\n",
        "std_scaler = StandardScaler()\n",
        "std_diabetes_feat = std_scaler.fit_transform(diabetes_features)"
      ],
      "metadata": {
        "execution": {
          "iopub.status.busy": "2024-03-06T02:25:27.802962Z",
          "iopub.execute_input": "2024-03-06T02:25:27.8035Z",
          "iopub.status.idle": "2024-03-06T02:25:29.115364Z",
          "shell.execute_reply.started": "2024-03-06T02:25:27.80347Z",
          "shell.execute_reply": "2024-03-06T02:25:29.114159Z"
        },
        "trusted": true,
        "id": "N92us-Hpld7X"
      },
      "execution_count": 2,
      "outputs": []
    },
    {
      "cell_type": "code",
      "source": [
        "#Split the data into 'Train' and 'Test'\n",
        "from sklearn.model_selection import train_test_split\n",
        "\n",
        "train_std_diabetes_feat, test_std_diabetes_feat, train_diabetes_result, test_diabetes_result = train_test_split(std_diabetes_feat, diabetes_result, test_size = 0.25, shuffle = True, stratify = diabetes_result)\n",
        "print(\"Label Count in the overall diabetes dataset is :\", np.bincount(diabetes_result))\n",
        "print(\"Label Count in the Train Split of the dataset is :\", np.bincount(train_diabetes_result))\n",
        "print(\"Label Count in the Test Split of the dataset is :\", np.bincount(test_diabetes_result))"
      ],
      "metadata": {
        "execution": {
          "iopub.status.busy": "2024-03-06T02:25:29.116767Z",
          "iopub.execute_input": "2024-03-06T02:25:29.117153Z",
          "iopub.status.idle": "2024-03-06T02:25:29.237564Z",
          "shell.execute_reply.started": "2024-03-06T02:25:29.117117Z",
          "shell.execute_reply": "2024-03-06T02:25:29.236202Z"
        },
        "trusted": true,
        "colab": {
          "base_uri": "https://localhost:8080/"
        },
        "id": "IVuAGEiYld7Y",
        "outputId": "95314c03-4449-4165-9f6a-23368bf621d3"
      },
      "execution_count": 3,
      "outputs": [
        {
          "output_type": "stream",
          "name": "stdout",
          "text": [
            "Label Count in the overall diabetes dataset is : [500 268]\n",
            "Label Count in the Train Split of the dataset is : [375 201]\n",
            "Label Count in the Test Split of the dataset is : [125  67]\n"
          ]
        }
      ]
    },
    {
      "cell_type": "code",
      "source": [
        "print(train_diabetes_result)\n",
        "print(test_diabetes_result)"
      ],
      "metadata": {
        "colab": {
          "base_uri": "https://localhost:8080/"
        },
        "id": "_X-VuqitoAeY",
        "outputId": "1ee7d879-10c7-4c1c-f641-fa5df0bf28fd"
      },
      "execution_count": 21,
      "outputs": [
        {
          "output_type": "stream",
          "name": "stdout",
          "text": [
            "[1 0 0 1 1 0 0 1 1 0 1 0 0 1 0 0 0 1 1 0 1 0 0 0 1 0 1 1 1 0 1 0 0 0 0 1 0\n",
            " 0 1 0 1 1 1 1 0 0 0 0 0 0 1 0 1 1 0 0 1 1 1 0 0 1 1 0 0 0 0 0 0 1 1 1 0 0\n",
            " 1 0 0 1 1 1 1 0 0 0 1 1 1 1 1 1 0 0 0 0 1 1 0 0 1 0 1 1 1 0 1 0 1 0 0 0 0\n",
            " 0 0 1 1 0 1 0 1 0 0 1 0 0 1 0 0 0 0 0 1 0 0 1 0 0 0 0 0 0 0 0 0 0 1 0 1 1\n",
            " 1 1 1 1 1 1 0 1 0 0 1 0 0 0 0 0 0 0 0 0 1 1 0 1 1 1 0 1 1 0 0 0 0 0 0 0 1\n",
            " 1 1 0 0 0 0 1 1 1 0 1 0 0 1 0 1 0 0 0 1 1 0 0 0 0 0 0 0 1 1 0 1 1 0 1 0 0\n",
            " 0 1 0 0 0 1 0 0 0 1 0 0 0 1 0 0 0 0 0 0 0 0 0 1 1 1 0 0 0 0 0 0 0 0 0 1 0\n",
            " 0 0 0 0 0 1 0 0 0 1 0 0 0 0 0 0 0 0 1 1 1 0 1 0 1 1 0 0 0 1 0 1 0 1 0 0 1\n",
            " 0 0 0 0 0 1 0 1 0 0 1 0 0 0 0 0 0 1 0 1 1 0 0 1 0 0 1 1 1 0 1 1 0 0 0 0 0\n",
            " 0 0 0 1 0 0 0 0 0 0 0 0 0 0 0 1 1 1 1 1 0 0 1 1 0 0 0 0 0 1 1 1 0 0 1 0 1\n",
            " 0 0 0 0 1 1 0 0 1 1 0 1 0 0 1 0 0 0 1 0 0 0 0 0 0 0 0 0 0 0 0 1 1 0 1 1 0\n",
            " 0 1 0 1 0 1 0 0 0 0 0 1 1 1 0 0 0 0 1 0 1 1 0 1 0 1 0 0 1 0 0 1 0 1 1 1 0\n",
            " 0 0 0 0 1 1 1 0 0 1 0 0 0 1 0 0 0 1 0 1 1 0 1 0 0 0 0 0 0 0 1 0 0 0 1 0 1\n",
            " 0 0 0 1 0 1 1 0 0 0 1 0 1 1 1 0 0 0 1 0 0 1 0 1 0 0 0 0 0 0 0 0 1 0 1 0 0\n",
            " 0 0 0 0 0 0 0 0 1 0 0 1 1 0 0 0 0 1 0 1 1 0 0 1 0 1 0 0 0 0 0 0 0 0 0 0 0\n",
            " 0 0 0 0 0 0 0 1 0 0 0 0 1 0 0 0 0 1 0 0 1]\n",
            "[0 0 1 1 0 0 0 0 1 1 0 1 0 1 0 1 0 0 0 1 0 0 0 0 1 1 0 0 0 1 0 0 0 1 1 0 0\n",
            " 1 1 0 1 1 0 0 0 0 0 0 0 0 0 1 1 1 0 0 1 0 1 0 0 0 1 0 0 0 1 0 0 1 1 0 1 1\n",
            " 0 1 0 1 1 0 0 1 1 0 0 1 0 0 1 1 1 1 0 1 0 0 0 0 1 0 0 1 0 0 1 0 0 0 0 1 0\n",
            " 0 0 0 1 0 0 0 0 0 0 0 0 1 1 0 0 0 1 1 0 1 0 0 0 0 0 0 0 0 0 0 1 0 1 1 0 1\n",
            " 0 0 1 0 0 1 0 0 0 0 0 0 0 0 1 1 0 1 0 0 0 0 0 1 0 1 0 0 1 1 0 1 1 0 0 0 0\n",
            " 0 1 1 0 1 0 0]\n"
          ]
        }
      ]
    },
    {
      "cell_type": "code",
      "source": [
        "\"\"\"\n",
        "    For the Logistic regression, I'll need the functionality to calculate the net input which is weight and\n",
        "    the feature vector dot product plus the bias value. Second, for the activation function Logistic regression\n",
        "    uses the Logistic or the Sigmoid Function. And I'll use the fit and predict paradigm so i'll need to calculate those.\n",
        "\n",
        "\"\"\"\n",
        "class logistic_regression():\n",
        "    def __init__(self, eta = 0.01, epochs = 500, random_seed = 1):\n",
        "        self.eta = eta\n",
        "        self.epochs = epochs\n",
        "        self.random_seed = random_seed\n",
        "\n",
        "    def net_input(self, X):\n",
        "        return np.dot(X, self.weight[1:]) + self.weight[0]\n",
        "\n",
        "    def activation_sigmoid(self, z):\n",
        "        return 1 / (1 + np.exp(-np.clip(z, -250, 250)))\n",
        "\n",
        "    def predict(self, X):\n",
        "        return np.where(self.activation_sigmoid(self.net_input(X)) > 0.5, 1, 0)\n",
        "\n",
        "    def fit(self, X, y):\n",
        "        r_seed = np.random.RandomState(self.random_seed)\n",
        "        n_features = X.shape[1]\n",
        "#         self.weight = r_seed.normal(loc=0.0, scale=0.01, size = 1+ X.shape[1])\n",
        "        self.weight = r_seed.normal(loc=0.0, scale=1 / np.sqrt(n_features), size = 1+ X.shape[1])\n",
        "        self.loss = []\n",
        "        self.accuracy = []\n",
        "\n",
        "        for _ in range(self.epochs):\n",
        "            net_input = self.net_input(X)\n",
        "            sig_output = self.activation_sigmoid(net_input)\n",
        "            error = y - sig_output\n",
        "            self.weight[1:] += self.eta * 2 * X.T.dot(error) / X.shape[0]\n",
        "            self.weight[0] += self.eta * 2 * error.mean()\n",
        "            self.loss.append(-y.dot(np.log(sig_output)) - (1-y).dot(np.log(1-sig_output)))\n",
        "            self.accuracy.append(np.mean(y == self.predict(X)))\n",
        "\n",
        "        return self.weight, self.loss, self.accuracy\n"
      ],
      "metadata": {
        "execution": {
          "iopub.status.busy": "2024-03-06T02:26:00.415204Z",
          "iopub.execute_input": "2024-03-06T02:26:00.416219Z",
          "iopub.status.idle": "2024-03-06T02:26:00.42714Z",
          "shell.execute_reply.started": "2024-03-06T02:26:00.416185Z",
          "shell.execute_reply": "2024-03-06T02:26:00.425928Z"
        },
        "trusted": true,
        "id": "LpGQLI1Zld7Y"
      },
      "execution_count": 66,
      "outputs": []
    },
    {
      "cell_type": "code",
      "source": [
        "LogReg = logistic_regression()"
      ],
      "metadata": {
        "execution": {
          "iopub.status.busy": "2024-03-06T02:26:01.506935Z",
          "iopub.execute_input": "2024-03-06T02:26:01.509561Z",
          "iopub.status.idle": "2024-03-06T02:26:01.513699Z",
          "shell.execute_reply.started": "2024-03-06T02:26:01.509517Z",
          "shell.execute_reply": "2024-03-06T02:26:01.512844Z"
        },
        "trusted": true,
        "id": "tPna-h4Lld7Z"
      },
      "execution_count": 67,
      "outputs": []
    },
    {
      "cell_type": "code",
      "source": [
        "weight, loss , acc = LogReg.fit(train_std_diabetes_feat,train_diabetes_result)"
      ],
      "metadata": {
        "execution": {
          "iopub.status.busy": "2024-03-06T02:26:02.452597Z",
          "iopub.execute_input": "2024-03-06T02:26:02.452955Z",
          "iopub.status.idle": "2024-03-06T02:26:02.518639Z",
          "shell.execute_reply.started": "2024-03-06T02:26:02.452928Z",
          "shell.execute_reply": "2024-03-06T02:26:02.517576Z"
        },
        "trusted": true,
        "id": "v4d9wLyPld7Z"
      },
      "execution_count": 68,
      "outputs": []
    },
    {
      "cell_type": "code",
      "source": [
        "y_pred = LogReg.predict(test_std_diabetes_feat)\n",
        "print(y_pred)"
      ],
      "metadata": {
        "execution": {
          "iopub.status.busy": "2024-03-06T02:26:05.459658Z",
          "iopub.execute_input": "2024-03-06T02:26:05.460122Z",
          "iopub.status.idle": "2024-03-06T02:26:05.46677Z",
          "shell.execute_reply.started": "2024-03-06T02:26:05.460083Z",
          "shell.execute_reply": "2024-03-06T02:26:05.465666Z"
        },
        "trusted": true,
        "colab": {
          "base_uri": "https://localhost:8080/"
        },
        "id": "yP8GOQpxld7a",
        "outputId": "99d1fe79-6340-4e78-d319-d2b44072eb9f"
      },
      "execution_count": 70,
      "outputs": [
        {
          "output_type": "stream",
          "name": "stdout",
          "text": [
            "[0 0 0 0 0 0 0 0 0 0 0 0 0 0 0 0 0 1 0 0 0 0 0 0 0 0 0 0 0 0 0 0 0 0 0 0 0\n",
            " 0 0 0 0 0 0 0 0 0 0 0 0 0 0 1 0 0 0 0 0 0 0 0 0 0 0 0 0 0 0 0 0 0 0 0 1 0\n",
            " 0 0 0 0 0 0 0 0 0 0 0 0 0 0 0 0 1 0 0 0 0 0 0 0 0 0 0 1 0 0 0 0 0 0 0 0 0\n",
            " 0 0 0 0 0 1 0 0 0 0 0 0 0 0 0 0 0 1 1 0 0 0 0 0 0 0 0 0 0 0 0 0 0 0 0 0 0\n",
            " 0 0 0 0 0 0 0 0 0 0 0 0 0 0 0 0 0 0 0 0 0 0 0 0 0 0 0 0 0 0 0 0 0 0 0 0 0\n",
            " 0 0 0 0 0 0 0]\n"
          ]
        }
      ]
    },
    {
      "cell_type": "code",
      "source": [
        "# Calculate the number of correct predictions\n",
        "correct_predictions = np.sum(y_pred == test_diabetes_result)\n",
        "\n",
        "# Calculate the accuracy\n",
        "accuracy = correct_predictions / len(test_diabetes_result)\n",
        "\n",
        "print(f\"Accuracy: {accuracy * 100:.2f}%\")"
      ],
      "metadata": {
        "execution": {
          "iopub.status.busy": "2024-03-06T02:26:12.527769Z",
          "iopub.execute_input": "2024-03-06T02:26:12.528183Z",
          "iopub.status.idle": "2024-03-06T02:26:12.534271Z",
          "shell.execute_reply.started": "2024-03-06T02:26:12.528152Z",
          "shell.execute_reply": "2024-03-06T02:26:12.533167Z"
        },
        "trusted": true,
        "colab": {
          "base_uri": "https://localhost:8080/"
        },
        "id": "goNLYiEWld7a",
        "outputId": "4a6b05ed-6d84-43a6-8674-385c5027855e"
      },
      "execution_count": 71,
      "outputs": [
        {
          "output_type": "stream",
          "name": "stdout",
          "text": [
            "Accuracy: 61.98%\n"
          ]
        }
      ]
    },
    {
      "cell_type": "code",
      "source": [
        "class logistic_regression_regL2():\n",
        "    def __init__(self, eta=0.01, epochs=500, random_seed=1, l2_reg=0.1):\n",
        "        self.eta = eta\n",
        "        self.epochs = epochs\n",
        "        self.random_seed = random_seed\n",
        "        self.l2_reg = l2_reg  # L2 regularization parameter\n",
        "\n",
        "    def net_input(self, X):\n",
        "        return np.dot(X, self.weight[1:]) + self.weight[0]\n",
        "\n",
        "    def activation_sigmoid(self, z):\n",
        "        return 1 / (1 + np.exp(-np.clip(z, -250, 250)))\n",
        "\n",
        "\n",
        "    def predict(self, X):\n",
        "        return np.where(self.activation_sigmoid(self.net_input(X)) > 0.5, 1, 0)\n",
        "\n",
        "    def fit(self, X, y):  # Change the method name from Fit to fit\n",
        "        r_seed = np.random.RandomState(self.random_seed)\n",
        "        n_features = X.shape[1]\n",
        "        self.weight = r_seed.normal(loc=0.0, scale=1 / np.sqrt(n_features), size=1 + n_features)\n",
        "        self.loss = []\n",
        "        self.accuracy = []\n",
        "\n",
        "        for _ in range(self.epochs):\n",
        "            net_input = self.net_input(X)\n",
        "            sig_output = self.activation_sigmoid(net_input)\n",
        "            error = y - sig_output\n",
        "            self.weight[1:] += self.eta * (2 * X.T.dot(error) / X.shape[0] - self.l2_reg * self.weight[1:])\n",
        "            self.weight[0] += self.eta * 2 * error.mean()\n",
        "            self.loss.append(-y.dot(np.log(sig_output)) - (1 - y).dot(np.log(1 - sig_output)))\n",
        "            self.accuracy.append(np.mean(y == self.predict(X)))\n",
        "\n",
        "        return self.weight, self.loss, self.accuracy"
      ],
      "metadata": {
        "id": "VTuVc-4bld7b"
      },
      "execution_count": 108,
      "outputs": []
    },
    {
      "cell_type": "code",
      "source": [
        "LogRegL2 = logistic_regression_regL2()"
      ],
      "metadata": {
        "id": "kzCjAdP_nHhK"
      },
      "execution_count": 109,
      "outputs": []
    },
    {
      "cell_type": "code",
      "source": [
        "weight, loss , acc = LogRegL2.fit(train_std_diabetes_feat,train_diabetes_result)"
      ],
      "metadata": {
        "id": "njjFYMQYpOwz"
      },
      "execution_count": 110,
      "outputs": []
    },
    {
      "cell_type": "code",
      "source": [
        "y_pred = LogRegL2.predict(test_std_diabetes_feat)\n",
        "print(y_pred)"
      ],
      "metadata": {
        "colab": {
          "base_uri": "https://localhost:8080/"
        },
        "id": "fbHTa-i-nN_n",
        "outputId": "dd3aa9f3-f486-4a67-a4c6-14d54c1b6c69"
      },
      "execution_count": 111,
      "outputs": [
        {
          "output_type": "stream",
          "name": "stdout",
          "text": [
            "[0 0 0 0 0 0 0 0 0 0 0 0 0 0 0 0 0 0 0 0 0 0 0 0 0 0 0 0 0 0 0 0 0 0 0 0 0\n",
            " 0 0 0 0 0 0 0 0 0 0 0 0 0 0 0 0 0 0 0 0 0 0 0 0 0 0 0 0 0 0 0 0 0 0 0 0 0\n",
            " 0 0 0 0 0 0 0 0 0 0 0 0 0 0 0 0 1 0 0 0 0 0 0 0 0 0 0 0 0 0 0 0 0 0 0 0 0\n",
            " 0 0 0 0 0 0 0 0 0 0 0 0 0 0 0 0 0 1 0 0 0 0 0 0 0 0 0 0 0 0 0 0 0 0 0 0 0\n",
            " 0 0 0 0 0 0 0 0 0 0 0 0 0 0 0 0 0 0 0 0 0 0 0 0 0 0 0 0 0 0 0 0 0 0 0 0 0\n",
            " 0 0 0 0 0 0 0]\n"
          ]
        }
      ]
    },
    {
      "cell_type": "code",
      "source": [
        "# Calculate the number of correct predictions\n",
        "correct_predictions = np.sum(y_pred == test_diabetes_result)\n",
        "\n",
        "# Calculate the accuracy\n",
        "accuracy = correct_predictions / len(test_diabetes_result)\n",
        "\n",
        "print(f\"Accuracy: {accuracy * 100:.2f}%\")"
      ],
      "metadata": {
        "colab": {
          "base_uri": "https://localhost:8080/"
        },
        "id": "3SUYPsWOqIUa",
        "outputId": "85f68e77-f218-4385-88aa-8cb31b251c8b"
      },
      "execution_count": 112,
      "outputs": [
        {
          "output_type": "stream",
          "name": "stdout",
          "text": [
            "Accuracy: 64.06%\n"
          ]
        }
      ]
    },
    {
      "cell_type": "markdown",
      "source": [
        "## Stdardized and non standardized feature Impact"
      ],
      "metadata": {
        "id": "lfU1Ic5VzdhK"
      }
    },
    {
      "cell_type": "code",
      "source": [
        "\n",
        "X_train, X_test, y_train, y_test = train_std_diabetes_feat, test_std_diabetes_feat, train_diabetes_result, test_diabetes_result\n",
        "\n",
        "from sklearn.linear_model import LogisticRegression\n",
        "from sklearn.metrics import accuracy_score\n",
        "model = LogisticRegression(max_iter=500)\n",
        "model.fit(X_train,y_train)\n",
        "y_pred = model.predict(X_test)\n",
        "accuracy_score(y_test,y_pred)"
      ],
      "metadata": {
        "id": "DcCvwMdUzV8S",
        "outputId": "d2286779-c0b7-4129-bfb6-01088951c680",
        "colab": {
          "base_uri": "https://localhost:8080/"
        }
      },
      "execution_count": 116,
      "outputs": [
        {
          "output_type": "execute_result",
          "data": {
            "text/plain": [
              "0.6510416666666666"
            ]
          },
          "metadata": {},
          "execution_count": 116
        }
      ]
    },
    {
      "cell_type": "code",
      "source": [
        "from sklearn.preprocessing import StandardScaler\n",
        "from sklearn.model_selection import train_test_split\n",
        "diabetes_features = diabetes_df.iloc[:, :-1].values\n",
        "diabetes_result = diabetes_df.iloc[:, -1].values\n",
        "#Split the data into 'Train' and 'Test'\n",
        "\n",
        "train_diabetes_feat, test_diabetes_feat, train_diabetes_result, test_diabetes_result = train_test_split(diabetes_features, diabetes_result, test_size = 0.25, shuffle = True, stratify = diabetes_result)\n",
        "print(\"Label Count in the overall diabetes dataset is :\", np.bincount(diabetes_result))\n",
        "print(\"Label Count in the Train Split of the dataset is :\", np.bincount(train_diabetes_result))\n",
        "print(\"Label Count in the Test Split of the dataset is :\", np.bincount(test_diabetes_result))\n",
        "X_train, X_test, y_train, y_test = train_diabetes_feat, test_diabetes_feat, train_diabetes_result, test_diabetes_result"
      ],
      "metadata": {
        "execution": {
          "iopub.status.busy": "2024-03-06T02:26:13.645313Z",
          "iopub.execute_input": "2024-03-06T02:26:13.646495Z",
          "iopub.status.idle": "2024-03-06T02:26:13.651556Z",
          "shell.execute_reply.started": "2024-03-06T02:26:13.646449Z",
          "shell.execute_reply": "2024-03-06T02:26:13.650199Z"
        },
        "trusted": true,
        "colab": {
          "base_uri": "https://localhost:8080/"
        },
        "id": "_9clBeLSld7b",
        "outputId": "221e5154-880e-4a3d-d9da-95295a8c6d76"
      },
      "execution_count": 114,
      "outputs": [
        {
          "output_type": "stream",
          "name": "stdout",
          "text": [
            "Label Count in the overall diabetes dataset is : [500 268]\n",
            "Label Count in the Train Split of the dataset is : [375 201]\n",
            "Label Count in the Test Split of the dataset is : [125  67]\n"
          ]
        }
      ]
    },
    {
      "cell_type": "code",
      "source": [
        "from sklearn.linear_model import LogisticRegression\n",
        "from sklearn.metrics import accuracy_score\n",
        "model = LogisticRegression(max_iter=500)\n",
        "model.fit(X_train,y_train)\n",
        "y_pred = model.predict(X_test)\n",
        "accuracy_score(y_test,y_pred)"
      ],
      "metadata": {
        "execution": {
          "iopub.status.busy": "2024-03-06T02:26:27.522437Z",
          "iopub.execute_input": "2024-03-06T02:26:27.522897Z",
          "iopub.status.idle": "2024-03-06T02:26:27.651432Z",
          "shell.execute_reply.started": "2024-03-06T02:26:27.522855Z",
          "shell.execute_reply": "2024-03-06T02:26:27.649778Z"
        },
        "trusted": true,
        "colab": {
          "base_uri": "https://localhost:8080/"
        },
        "id": "o6H8ZiLbld7b",
        "outputId": "b8beed3d-c35a-4abf-93b8-6e66339a08a4"
      },
      "execution_count": 115,
      "outputs": [
        {
          "output_type": "execute_result",
          "data": {
            "text/plain": [
              "0.7135416666666666"
            ]
          },
          "metadata": {},
          "execution_count": 115
        }
      ]
    },
    {
      "cell_type": "code",
      "source": [],
      "metadata": {
        "id": "ixpIAV-0xO79"
      },
      "execution_count": null,
      "outputs": []
    }
  ]
}